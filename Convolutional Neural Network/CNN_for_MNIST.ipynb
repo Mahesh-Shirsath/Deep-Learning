{
  "nbformat": 4,
  "nbformat_minor": 0,
  "metadata": {
    "colab": {
      "name": "CNN for MNIST.ipynb",
      "provenance": [],
      "collapsed_sections": []
    },
    "kernelspec": {
      "name": "python3",
      "display_name": "Python 3"
    }
  },
  "cells": [
    {
      "cell_type": "code",
      "metadata": {
        "id": "xFGOn7YKJQBp",
        "colab_type": "code",
        "colab": {}
      },
      "source": [
        "import tensorflow as tf\n",
        "import numpy as np\n",
        "import matplotlib.pyplot as plt"
      ],
      "execution_count": null,
      "outputs": []
    },
    {
      "cell_type": "code",
      "metadata": {
        "id": "K6vf4RGIzoXw",
        "colab_type": "code",
        "colab": {}
      },
      "source": [
        "from tensorflow.keras.layers import Input, Conv2D, Dense, Dropout, Flatten\n",
        "from tensorflow.keras.models import Model"
      ],
      "execution_count": null,
      "outputs": []
    },
    {
      "cell_type": "code",
      "metadata": {
        "id": "qShQZGTtJhZx",
        "colab_type": "code",
        "colab": {}
      },
      "source": [
        "input = np.array([[3,4,5], [5,6,7], [7,8,9]])\n",
        "kernal = np.array([[2,3], [3,4]])"
      ],
      "execution_count": null,
      "outputs": []
    },
    {
      "cell_type": "code",
      "metadata": {
        "id": "htMGMEMuK0D6",
        "colab_type": "code",
        "colab": {}
      },
      "source": [
        "output_height = len(input) - len(kernal) + 1\n",
        "output_width = len(input[0]) - len(kernal[0]) + 1\n",
        "output = np.array([[0, 0], [0, 0]])\n",
        "for i in range(0, output_height):\n",
        "  for j in range(0, output_width):\n",
        "    for ii in range(0, 2):\n",
        "      for jj in range(0, 2):\n",
        "        output[i, j] += input[i + ii, j + jj] * kernal[ii, jj]"
      ],
      "execution_count": null,
      "outputs": []
    },
    {
      "cell_type": "code",
      "metadata": {
        "id": "duyXU5n_K1g8",
        "colab_type": "code",
        "colab": {
          "base_uri": "https://localhost:8080/",
          "height": 50
        },
        "outputId": "aa337c70-9abd-4a49-ecf4-9b4e531d3eaa"
      },
      "source": [
        "print(output)"
      ],
      "execution_count": null,
      "outputs": [
        {
          "output_type": "stream",
          "text": [
            "[[57 69]\n",
            " [81 93]]\n"
          ],
          "name": "stdout"
        }
      ]
    },
    {
      "cell_type": "code",
      "metadata": {
        "id": "zF9_QXmnNPwT",
        "colab_type": "code",
        "colab": {
          "base_uri": "https://localhost:8080/",
          "height": 151
        },
        "outputId": "d4465a47-fc2f-433c-b785-cbb6c717278c"
      },
      "source": [
        "(X_train, y_train), (X_test, y_test) = tf.keras.datasets.fashion_mnist.load_data()"
      ],
      "execution_count": null,
      "outputs": [
        {
          "output_type": "stream",
          "text": [
            "Downloading data from https://storage.googleapis.com/tensorflow/tf-keras-datasets/train-labels-idx1-ubyte.gz\n",
            "32768/29515 [=================================] - 0s 0us/step\n",
            "Downloading data from https://storage.googleapis.com/tensorflow/tf-keras-datasets/train-images-idx3-ubyte.gz\n",
            "26427392/26421880 [==============================] - 0s 0us/step\n",
            "Downloading data from https://storage.googleapis.com/tensorflow/tf-keras-datasets/t10k-labels-idx1-ubyte.gz\n",
            "8192/5148 [===============================================] - 0s 0us/step\n",
            "Downloading data from https://storage.googleapis.com/tensorflow/tf-keras-datasets/t10k-images-idx3-ubyte.gz\n",
            "4423680/4422102 [==============================] - 0s 0us/step\n"
          ],
          "name": "stdout"
        }
      ]
    },
    {
      "cell_type": "code",
      "metadata": {
        "id": "ha2SjRXvycH-",
        "colab_type": "code",
        "colab": {
          "base_uri": "https://localhost:8080/",
          "height": 34
        },
        "outputId": "743d237c-5f6c-4c89-c1b1-81d8e9d394b4"
      },
      "source": [
        "X_train, X_test = X_train / 255, X_test / 255\n",
        "print('X_train.shape : ', X_train.shape)"
      ],
      "execution_count": null,
      "outputs": [
        {
          "output_type": "stream",
          "text": [
            "X_train.shape :  (60000, 28, 28)\n"
          ],
          "name": "stdout"
        }
      ]
    },
    {
      "cell_type": "code",
      "metadata": {
        "id": "ATYVBmjHy49f",
        "colab_type": "code",
        "colab": {
          "base_uri": "https://localhost:8080/",
          "height": 34
        },
        "outputId": "60412a49-323d-474f-ae0b-51e552ce901b"
      },
      "source": [
        "X_train = np.expand_dims(X_train, -1)\n",
        "X_test = np.expand_dims(X_test, -1)\n",
        "\n",
        "print(X_train.shape)"
      ],
      "execution_count": null,
      "outputs": [
        {
          "output_type": "stream",
          "text": [
            "(60000, 28, 28, 1)\n"
          ],
          "name": "stdout"
        }
      ]
    },
    {
      "cell_type": "code",
      "metadata": {
        "id": "pIFWeEOp0kJC",
        "colab_type": "code",
        "colab": {}
      },
      "source": [
        "K = len(set(y_train))"
      ],
      "execution_count": null,
      "outputs": []
    },
    {
      "cell_type": "code",
      "metadata": {
        "id": "amj5HMkEwB6v",
        "colab_type": "code",
        "colab": {}
      },
      "source": [
        "i = Input(shape=X_train[0].shape)\n",
        "x = Conv2D(32, (3, 3), activation='relu', strides=2)(i)\n",
        "x = Conv2D(64, (3, 3), activation='relu', strides=2)(x)\n",
        "x = Conv2D(128, (3, 3), activation='relu', strides=2)(x)\n",
        "x = Flatten()(x)\n",
        "x = Dropout(0.2)(x)\n",
        "x = Dense(512, activation='relu')(x)\n",
        "x = Dropout(0.2)(x)\n",
        "x = Dense(K, activation='softmax')(x)\n",
        "x = Dropout(0.2)(x)\n",
        "\n",
        "model = Model(i, x)"
      ],
      "execution_count": null,
      "outputs": []
    },
    {
      "cell_type": "code",
      "metadata": {
        "id": "bslZJtjUzbRi",
        "colab_type": "code",
        "colab": {
          "base_uri": "https://localhost:8080/",
          "height": 521
        },
        "outputId": "280c04b5-ecdd-4fe1-e063-61dce6c9cdd4"
      },
      "source": [
        "model.compile(optimizer='adam', loss='sparse_categorical_crossentropy', metrics=['accuracy'])\n",
        "\n",
        "r = model.fit(X_train, y_train, validation_data=(X_test, y_test), epochs=15)"
      ],
      "execution_count": null,
      "outputs": [
        {
          "output_type": "stream",
          "text": [
            "Epoch 1/15\n",
            "1875/1875 [==============================] - 26s 14ms/step - loss: 2.3412 - accuracy: 0.6406 - val_loss: 0.8197 - val_accuracy: 0.8174\n",
            "Epoch 2/15\n",
            "1875/1875 [==============================] - 25s 13ms/step - loss: 1.8734 - accuracy: 0.6852 - val_loss: 0.9982 - val_accuracy: 0.8377\n",
            "Epoch 3/15\n",
            "1875/1875 [==============================] - 24s 13ms/step - loss: 1.7629 - accuracy: 0.7017 - val_loss: 0.8601 - val_accuracy: 0.8550\n",
            "Epoch 4/15\n",
            "1875/1875 [==============================] - 23s 12ms/step - loss: 1.6935 - accuracy: 0.7040 - val_loss: 0.7651 - val_accuracy: 0.8637\n",
            "Epoch 5/15\n",
            "1875/1875 [==============================] - 23s 12ms/step - loss: 1.5682 - accuracy: 0.7140 - val_loss: 0.8008 - val_accuracy: 0.8588\n",
            "Epoch 6/15\n",
            "1875/1875 [==============================] - 23s 12ms/step - loss: 1.5384 - accuracy: 0.7174 - val_loss: 0.8992 - val_accuracy: 0.8705\n",
            "Epoch 7/15\n",
            "1875/1875 [==============================] - 23s 12ms/step - loss: 1.4878 - accuracy: 0.7232 - val_loss: 0.9325 - val_accuracy: 0.8634\n",
            "Epoch 8/15\n",
            "1875/1875 [==============================] - 23s 12ms/step - loss: 1.4499 - accuracy: 0.7243 - val_loss: 0.7296 - val_accuracy: 0.8780\n",
            "Epoch 9/15\n",
            "1875/1875 [==============================] - 23s 12ms/step - loss: 1.4013 - accuracy: 0.7261 - val_loss: 0.7475 - val_accuracy: 0.8831\n",
            "Epoch 10/15\n",
            "1875/1875 [==============================] - 23s 12ms/step - loss: 1.3666 - accuracy: 0.7354 - val_loss: 0.7533 - val_accuracy: 0.8816\n",
            "Epoch 11/15\n",
            "1875/1875 [==============================] - 23s 12ms/step - loss: 1.3508 - accuracy: 0.7362 - val_loss: 0.8016 - val_accuracy: 0.8844\n",
            "Epoch 12/15\n",
            "1875/1875 [==============================] - 23s 12ms/step - loss: 1.3258 - accuracy: 0.7378 - val_loss: 0.7325 - val_accuracy: 0.8913\n",
            "Epoch 13/15\n",
            "1875/1875 [==============================] - 23s 12ms/step - loss: 1.2979 - accuracy: 0.7392 - val_loss: 0.8596 - val_accuracy: 0.8840\n",
            "Epoch 14/15\n",
            "1875/1875 [==============================] - 23s 12ms/step - loss: 1.2551 - accuracy: 0.7443 - val_loss: 0.8508 - val_accuracy: 0.8901\n",
            "Epoch 15/15\n",
            "1875/1875 [==============================] - 23s 12ms/step - loss: 1.2493 - accuracy: 0.7441 - val_loss: 0.8092 - val_accuracy: 0.8910\n"
          ],
          "name": "stdout"
        }
      ]
    },
    {
      "cell_type": "code",
      "metadata": {
        "id": "bka7Aqch1TJc",
        "colab_type": "code",
        "colab": {
          "base_uri": "https://localhost:8080/",
          "height": 284
        },
        "outputId": "7ac56c75-e0d4-4b63-a2a2-7823029fc6bc"
      },
      "source": [
        "plt.plot(r.history['loss'], label='loss')\n",
        "plt.plot(r.history['val_loss'], label='val_loss')\n",
        "plt.legend()"
      ],
      "execution_count": null,
      "outputs": [
        {
          "output_type": "execute_result",
          "data": {
            "text/plain": [
              "<matplotlib.legend.Legend at 0x7f1bb648ee10>"
            ]
          },
          "metadata": {
            "tags": []
          },
          "execution_count": 27
        },
        {
          "output_type": "display_data",
          "data": {
            "image/png": "[encoded data removed]",
            "text/plain": [
              "<Figure size 432x288 with 1 Axes>"
            ]
          },
          "metadata": {
            "tags": [],
            "needs_background": "light"
          }
        }
      ]
    },
    {
      "cell_type": "code",
      "metadata": {
        "id": "xk8Y5xO510r5",
        "colab_type": "code",
        "colab": {
          "base_uri": "https://localhost:8080/",
          "height": 283
        },
        "outputId": "dc370197-3eb5-4e94-ed97-de5d28be967c"
      },
      "source": [
        "plt.plot(r.history['accuracy'], label='accuracy')\n",
        "plt.plot(r.history['val_accuracy'], label='val_accuracy')\n",
        "plt.legend()"
      ],
      "execution_count": null,
      "outputs": [
        {
          "output_type": "execute_result",
          "data": {
            "text/plain": [
              "<matplotlib.legend.Legend at 0x7f1bb6ca39b0>"
            ]
          },
          "metadata": {
            "tags": []
          },
          "execution_count": 28
        },
        {
          "output_type": "display_data",
          "data": {
            "image/png": "[encoded data removed]",
            "text/plain": [
              "<Figure size 432x288 with 1 Axes>"
            ]
          },
          "metadata": {
            "tags": [],
            "needs_background": "light"
          }
        }
      ]
    },
    {
      "cell_type": "code",
      "metadata": {
        "id": "pR8SLYXu2F1g",
        "colab_type": "code",
        "colab": {
          "base_uri": "https://localhost:8080/",
          "height": 185
        },
        "outputId": "c1622033-0f8d-44c3-ed4e-82792e7311cf"
      },
      "source": [
        "from sklearn.metrics import confusion_matrix\n",
        "print(confusion_matrix(model.predict(X_test).argmax(axis=1), y_test))"
      ],
      "execution_count": null,
      "outputs": [
        {
          "output_type": "stream",
          "text": [
            "[[841   3  17  11   0   1 112   0   0   1]\n",
            " [  2 972   3   3   2   0   1   0   2   0]\n",
            " [ 23   0 812  15  53   0  70   0   5   0]\n",
            " [ 24  15   7 918  29   1  28   1   4   0]\n",
            " [  2   3  70  26 798   0  76   0   3   0]\n",
            " [  1   1   0   0   0 974   0  17   2   8]\n",
            " [ 96   5  90  26 115   0 701   0   5   0]\n",
            " [  0   0   0   0   0  19   0 954   1  27]\n",
            " [ 11   1   1   1   3   0  12   0 976   0]\n",
            " [  0   0   0   0   0   5   0  28   2 964]]\n"
          ],
          "name": "stdout"
        }
      ]
    },
    {
      "cell_type": "code",
      "metadata": {
        "id": "bnyU31dU5CIN",
        "colab_type": "code",
        "colab": {}
      },
      "source": [
        "labels = ['T-shirt/top', 'Trouser', 'Pullover', 'Dress', 'Coat',\n",
        "               'Sandal', 'Shirt', 'Sneaker', 'Bag', 'Ankle boot']"
      ],
      "execution_count": null,
      "outputs": []
    },
    {
      "cell_type": "code",
      "metadata": {
        "id": "kChOclsM3d80",
        "colab_type": "code",
        "colab": {
          "base_uri": "https://localhost:8080/",
          "height": 298
        },
        "outputId": "f089b466-2b5a-4f3b-eb39-eb7c1eabeb94"
      },
      "source": [
        "y_pred = model.predict(X_test).argmax(axis=1)\n",
        "misclassified_idx = np.where(y_pred != y_test)[0]\n",
        "i = np.random.choice(misclassified_idx)\n",
        "plt.imshow(X_test[i].reshape(28,28), cmap='gray')\n",
        "plt.title(\"True label:  %s, predicted label:  %s\" % (labels[y_test[i]], labels[y_pred[i]]))"
      ],
      "execution_count": null,
      "outputs": [
        {
          "output_type": "execute_result",
          "data": {
            "text/plain": [
              "Text(0.5, 1.0, 'True label Shirt, predicted label Dress')"
            ]
          },
          "metadata": {
            "tags": []
          },
          "execution_count": 35
        },
        {
          "output_type": "display_data",
          "data": {
            "image/png": "[encoded data removed]",
            "text/plain": [
              "<Figure size 432x288 with 1 Axes>"
            ]
          },
          "metadata": {
            "tags": [],
            "needs_background": "light"
          }
        }
      ]
    },
    {
      "cell_type": "code",
      "metadata": {
        "id": "htxBUAqz4Oi7",
        "colab_type": "code",
        "colab": {}
      },
      "source": [
        ""
      ],
      "execution_count": null,
      "outputs": []
    }
  ]
}